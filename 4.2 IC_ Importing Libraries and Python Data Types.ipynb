{
 "cells": [
  {
   "cell_type": "markdown",
   "id": "4bcfa03e",
   "metadata": {},
   "source": [
    "# Importing Libraries "
   ]
  },
  {
   "cell_type": "code",
   "execution_count": 1,
   "id": "5d28dbd5",
   "metadata": {},
   "outputs": [],
   "source": [
    "#  Importing libraries\n",
    "\n",
    "import pandas as pd\n",
    "import numpy as np\n",
    "import os"
   ]
  },
  {
   "cell_type": "markdown",
   "id": "f2b271ff",
   "metadata": {},
   "source": [
    "# Python Data Types"
   ]
  },
  {
   "cell_type": "markdown",
   "id": "6a87fbbd",
   "metadata": {},
   "source": [
    "x = 2"
   ]
  },
  {
   "cell_type": "markdown",
   "id": "877af73c",
   "metadata": {},
   "source": [
    "x            \n",
    "#output 2"
   ]
  },
  {
   "cell_type": "markdown",
   "id": "41b64d85",
   "metadata": {},
   "source": [
    "print(x)      \n",
    "#output 2"
   ]
  },
  {
   "cell_type": "markdown",
   "id": "369fdc53",
   "metadata": {},
   "source": [
    "type(x)      \n",
    "#output int"
   ]
  },
  {
   "cell_type": "markdown",
   "id": "56a17ece",
   "metadata": {},
   "source": [
    "y = 5.678"
   ]
  },
  {
   "cell_type": "markdown",
   "id": "4f16c48d",
   "metadata": {},
   "source": [
    "type(y)      \n",
    "#output float"
   ]
  },
  {
   "cell_type": "markdown",
   "id": "61552e4b",
   "metadata": {},
   "source": [
    "z = 'Brazil'"
   ]
  },
  {
   "cell_type": "markdown",
   "id": "9c501b10",
   "metadata": {},
   "source": [
    "type(z)       \n",
    "#output str"
   ]
  },
  {
   "cell_type": "markdown",
   "id": "f5f230eb",
   "metadata": {},
   "source": [
    "type(True)    \n",
    "#output bool"
   ]
  },
  {
   "cell_type": "markdown",
   "id": "0b9fb54d",
   "metadata": {},
   "source": [
    "type(False)  \n",
    "#output bool"
   ]
  },
  {
   "cell_type": "markdown",
   "id": "67653338",
   "metadata": {},
   "source": [
    "print(x)    \n",
    "#output 2"
   ]
  },
  {
   "cell_type": "markdown",
   "id": "23dcb121",
   "metadata": {},
   "source": [
    "x + 4     \n",
    "#output 6"
   ]
  },
  {
   "cell_type": "markdown",
   "id": "326d933c",
   "metadata": {},
   "source": [
    "a = \"Hello,\""
   ]
  },
  {
   "cell_type": "markdown",
   "id": "9fd4f9e3",
   "metadata": {},
   "source": [
    "b = \"Marley\""
   ]
  },
  {
   "cell_type": "markdown",
   "id": "70d430e3",
   "metadata": {},
   "source": [
    "a + b         \n",
    "#output \"Hello, Marley\""
   ]
  },
  {
   "cell_type": "markdown",
   "id": "77584092",
   "metadata": {},
   "source": [
    "n = \"potato\""
   ]
  },
  {
   "cell_type": "markdown",
   "id": "3a8224e7",
   "metadata": {},
   "source": [
    "n * 12      \n",
    "#output 'potatopotatopotatopotatopotatopotatopotatopotatopotatopotatopotatopotato'"
   ]
  },
  {
   "cell_type": "markdown",
   "id": "0e1fc42e",
   "metadata": {},
   "source": [
    "x == y     \n",
    "#output False"
   ]
  },
  {
   "cell_type": "markdown",
   "id": "2ba8b6c0",
   "metadata": {},
   "source": [
    "type(x == y) \n",
    "#output bool"
   ]
  },
  {
   "cell_type": "code",
   "execution_count": 2,
   "id": "0f1a9892",
   "metadata": {},
   "outputs": [],
   "source": [
    "# Task 4.2 \n",
    "# Working with Python data types\n",
    "\n",
    "# Step 7 : 3 different ways of reaching a result of 100 by adding or subtracting numeric variables\n",
    "\n",
    "a = 50\n",
    "\n",
    "b = 50\n"
   ]
  },
  {
   "cell_type": "code",
   "execution_count": 3,
   "id": "aa898caf",
   "metadata": {},
   "outputs": [
    {
     "data": {
      "text/plain": [
       "100"
      ]
     },
     "execution_count": 3,
     "metadata": {},
     "output_type": "execute_result"
    }
   ],
   "source": [
    "a + b"
   ]
  },
  {
   "cell_type": "code",
   "execution_count": 4,
   "id": "a7249085",
   "metadata": {},
   "outputs": [],
   "source": [
    "c = 200\n",
    "\n",
    "d = 100"
   ]
  },
  {
   "cell_type": "code",
   "execution_count": 5,
   "id": "843f6499",
   "metadata": {},
   "outputs": [
    {
     "data": {
      "text/plain": [
       "100"
      ]
     },
     "execution_count": 5,
     "metadata": {},
     "output_type": "execute_result"
    }
   ],
   "source": [
    "c - d"
   ]
  },
  {
   "cell_type": "code",
   "execution_count": 6,
   "id": "6036d852",
   "metadata": {},
   "outputs": [
    {
     "data": {
      "text/plain": [
       "100"
      ]
     },
     "execution_count": 6,
     "metadata": {},
     "output_type": "execute_result"
    }
   ],
   "source": [
    "c - (a + b)"
   ]
  },
  {
   "cell_type": "code",
   "execution_count": 7,
   "id": "328f834e",
   "metadata": {},
   "outputs": [],
   "source": [
    "# Step 8 : 2 floating-point variables and divide them by each other\n",
    "\n",
    "d = 10.5\n",
    "\n",
    "e = 5.5 "
   ]
  },
  {
   "cell_type": "code",
   "execution_count": 8,
   "id": "c992c925",
   "metadata": {},
   "outputs": [
    {
     "data": {
      "text/plain": [
       "1.9090909090909092"
      ]
     },
     "execution_count": 8,
     "metadata": {},
     "output_type": "execute_result"
    }
   ],
   "source": [
    "d / e"
   ]
  },
  {
   "cell_type": "code",
   "execution_count": 9,
   "id": "ced4f2f2",
   "metadata": {},
   "outputs": [],
   "source": [
    "# Step 9 : Construct a short word (concatenate strings)\n",
    "\n",
    "f = \"Note\"\n",
    "\n",
    "g = \"book\""
   ]
  },
  {
   "cell_type": "code",
   "execution_count": 10,
   "id": "60fc1abe",
   "metadata": {},
   "outputs": [
    {
     "data": {
      "text/plain": [
       "'Notebook'"
      ]
     },
     "execution_count": 10,
     "metadata": {},
     "output_type": "execute_result"
    }
   ],
   "source": [
    "f + g"
   ]
  },
  {
   "cell_type": "code",
   "execution_count": 11,
   "id": "0f50d5f6",
   "metadata": {},
   "outputs": [],
   "source": [
    "# Step 10 : Construct 2 short sentences made of separate strings\n",
    "\n",
    "h = \"I miss\"\n",
    "\n",
    "i = \"I love\"\n",
    "\n",
    "j = \" my dog\""
   ]
  },
  {
   "cell_type": "code",
   "execution_count": 12,
   "id": "bc1ac507",
   "metadata": {},
   "outputs": [
    {
     "data": {
      "text/plain": [
       "'I miss my dog'"
      ]
     },
     "execution_count": 12,
     "metadata": {},
     "output_type": "execute_result"
    }
   ],
   "source": [
    "h + j"
   ]
  },
  {
   "cell_type": "code",
   "execution_count": 13,
   "id": "3a85aee2",
   "metadata": {},
   "outputs": [
    {
     "data": {
      "text/plain": [
       "'I love my dog'"
      ]
     },
     "execution_count": 13,
     "metadata": {},
     "output_type": "execute_result"
    }
   ],
   "source": [
    "i + j"
   ]
  },
  {
   "cell_type": "code",
   "execution_count": 14,
   "id": "7be68c1f",
   "metadata": {},
   "outputs": [],
   "source": [
    "# Bonus task : Make a string appear 100 times\n",
    "\n",
    "n = \"Nala\""
   ]
  },
  {
   "cell_type": "code",
   "execution_count": 15,
   "id": "870ba9ce",
   "metadata": {},
   "outputs": [
    {
     "data": {
      "text/plain": [
       "'NalaNalaNalaNalaNalaNalaNalaNalaNalaNalaNalaNalaNalaNalaNalaNalaNalaNalaNalaNalaNalaNalaNalaNalaNalaNalaNalaNalaNalaNalaNalaNalaNalaNalaNalaNalaNalaNalaNalaNalaNalaNalaNalaNalaNalaNalaNalaNalaNalaNalaNalaNalaNalaNalaNalaNalaNalaNalaNalaNalaNalaNalaNalaNalaNalaNalaNalaNalaNalaNalaNalaNalaNalaNalaNalaNalaNalaNalaNalaNalaNalaNalaNalaNalaNalaNalaNalaNalaNalaNalaNalaNalaNalaNalaNalaNalaNalaNalaNalaNala'"
      ]
     },
     "execution_count": 15,
     "metadata": {},
     "output_type": "execute_result"
    }
   ],
   "source": [
    "n * 100"
   ]
  }
 ],
 "metadata": {
  "kernelspec": {
   "display_name": "Python 3 (ipykernel)",
   "language": "python",
   "name": "python3"
  },
  "language_info": {
   "codemirror_mode": {
    "name": "ipython",
    "version": 3
   },
   "file_extension": ".py",
   "mimetype": "text/x-python",
   "name": "python",
   "nbconvert_exporter": "python",
   "pygments_lexer": "ipython3",
   "version": "3.10.9"
  },
  "toc": {
   "base_numbering": 1,
   "nav_menu": {
    "height": "88px",
    "width": "192px"
   },
   "number_sections": true,
   "sideBar": true,
   "skip_h1_title": false,
   "title_cell": "Table of Contents",
   "title_sidebar": "Contents",
   "toc_cell": false,
   "toc_position": {},
   "toc_section_display": true,
   "toc_window_display": false
  }
 },
 "nbformat": 4,
 "nbformat_minor": 5
}
